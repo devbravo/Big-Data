{
 "cells": [
  {
   "cell_type": "code",
   "execution_count": 133,
   "metadata": {},
   "outputs": [],
   "source": [
    "from pyspark.sql import SparkSession"
   ]
  },
  {
   "cell_type": "code",
   "execution_count": 134,
   "metadata": {},
   "outputs": [],
   "source": [
    "def create_df(data):\n",
    "  spark = SparkSession.builder.appName('CreateDataFrame').getOrCreate()\n",
    "\n",
    "  df = spark.createDataFrame(data)\n",
    "  return df"
   ]
  },
  {
   "cell_type": "code",
   "execution_count": 135,
   "metadata": {},
   "outputs": [],
   "source": [
    "birth_data = [{\"name\": 'Diego', 'year_of_birth': 1987}, {\"name\": 'Maria', 'year_of_birth': 1990}, {\"name\": 'Jose', 'year_of_birth': 1995}, {\"name\": 'Juan', 'year_of_birth': 2000}]"
   ]
  },
  {
   "cell_type": "code",
   "execution_count": 136,
   "metadata": {},
   "outputs": [],
   "source": [
    "df = create_df(birth_data)"
   ]
  },
  {
   "cell_type": "code",
   "execution_count": 137,
   "metadata": {},
   "outputs": [
    {
     "name": "stdout",
     "output_type": "stream",
     "text": [
      "+-----+-------------+\n",
      "| name|year_of_birth|\n",
      "+-----+-------------+\n",
      "|Diego|         1987|\n",
      "|Maria|         1990|\n",
      "| Jose|         1995|\n",
      "| Juan|         2000|\n",
      "+-----+-------------+\n",
      "\n"
     ]
    }
   ],
   "source": [
    "df.show()"
   ]
  },
  {
   "cell_type": "code",
   "execution_count": 138,
   "metadata": {},
   "outputs": [],
   "source": [
    "spark = SparkSession.builder.appName('CreateDataFrame').getOrCreate()"
   ]
  },
  {
   "cell_type": "code",
   "execution_count": 139,
   "metadata": {},
   "outputs": [],
   "source": [
    "# save df as csv\n",
    "# # Save DataFrame as CSV\n",
    "df.coalesce(1).write.format(\"csv\").option(\"header\", \"true\").save(\"data/birth_data\")\n"
   ]
  },
  {
   "cell_type": "code",
   "execution_count": 143,
   "metadata": {},
   "outputs": [
    {
     "name": "stdout",
     "output_type": "stream",
     "text": [
      "+-----+-------------+---+\n",
      "| name|year_of_birth|age|\n",
      "+-----+-------------+---+\n",
      "|Diego|         1987| 36|\n",
      "|Maria|         1990| 33|\n",
      "| Jose|         1995| 28|\n",
      "| Juan|         2000| 23|\n",
      "+-----+-------------+---+\n",
      "\n"
     ]
    },
    {
     "name": "stderr",
     "output_type": "stream",
     "text": [
      "23/09/21 12:02:56 WARN SimpleFunctionRegistry: The function calculate_age replaced a previously registered function.\n"
     ]
    }
   ],
   "source": [
    "spark = SparkSession.builder.appName('TaskExecution').getOrCreate()\n",
    "\n",
    "df = spark.read.csv('./data/birth_data/input.csv', header=True, inferSchema=True)\n",
    "\n",
    "def calculate_age(year_of_birth):\n",
    "  current_year = 2023\n",
    "  return current_year - year_of_birth\n",
    "\n",
    "# Register the UDF with Spark\n",
    "spark.udf.register('calculate_age', calculate_age)\n",
    "\n",
    "# Apply the UDF to a column in the DataFrame\n",
    "df_with_age = df.withColumn('age', calculate_age(df['year_of_birth']))\n",
    "\n",
    "# show the results\n",
    "df_with_age.show()"
   ]
  }
 ],
 "metadata": {
  "kernelspec": {
   "display_name": "big-data-env",
   "language": "python",
   "name": "python3"
  },
  "language_info": {
   "codemirror_mode": {
    "name": "ipython",
    "version": 3
   },
   "file_extension": ".py",
   "mimetype": "text/x-python",
   "name": "python",
   "nbconvert_exporter": "python",
   "pygments_lexer": "ipython3",
   "version": "3.10.12"
  },
  "orig_nbformat": 4
 },
 "nbformat": 4,
 "nbformat_minor": 2
}
