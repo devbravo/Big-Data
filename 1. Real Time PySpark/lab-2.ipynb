{
 "cells": [
  {
   "cell_type": "code",
   "execution_count": 17,
   "metadata": {},
   "outputs": [],
   "source": [
    "from pyspark import SparkContext"
   ]
  },
  {
   "cell_type": "code",
   "execution_count": 18,
   "metadata": {},
   "outputs": [],
   "source": [
    "def word_count(file_path):\n",
    "  # create a SparkContext\n",
    "  sc = SparkContext(appName='WordCount')\n",
    "\n",
    "  try:\n",
    "    # read the text file and split it into words\n",
    "    lines = sc.textFile(file_path) # rdd\n",
    "    words = lines.flatMap(lambda line: line.split(' '))\n",
    "\n",
    "    # Count the occurrences of each word\n",
    "    word_counts = words.countByValue()\n",
    "\n",
    "    for word, count in word_counts.items():\n",
    "      print(f'{word}: {count}')\n",
    "\n",
    "  finally:\n",
    "    # Stop the SparkContext\n",
    "    sc.stop()"
   ]
  },
  {
   "cell_type": "code",
   "execution_count": 19,
   "metadata": {},
   "outputs": [
    {
     "name": "stdout",
     "output_type": "stream",
     "text": [
      "I: 2\n",
      "live: 1\n",
      "in: 3\n",
      "the: 2\n",
      "UK,: 2\n",
      "although: 1\n",
      "was: 1\n",
      "not: 1\n",
      "born: 1\n",
      "but: 1\n",
      "Mexico!: 1\n"
     ]
    }
   ],
   "source": [
    "word_count('data/hello_world.txt')"
   ]
  },
  {
   "cell_type": "code",
   "execution_count": null,
   "metadata": {},
   "outputs": [],
   "source": []
  }
 ],
 "metadata": {
  "kernelspec": {
   "display_name": "big-data-env",
   "language": "python",
   "name": "python3"
  },
  "language_info": {
   "codemirror_mode": {
    "name": "ipython",
    "version": 3
   },
   "file_extension": ".py",
   "mimetype": "text/x-python",
   "name": "python",
   "nbconvert_exporter": "python",
   "pygments_lexer": "ipython3",
   "version": "3.10.12"
  },
  "orig_nbformat": 4
 },
 "nbformat": 4,
 "nbformat_minor": 2
}
