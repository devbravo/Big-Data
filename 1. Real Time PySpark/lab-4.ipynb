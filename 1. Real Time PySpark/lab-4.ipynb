{
 "cells": [
  {
   "cell_type": "code",
   "execution_count": 121,
   "metadata": {},
   "outputs": [],
   "source": [
    "import logging\n",
    "from pyspark.sql import SparkSession"
   ]
  },
  {
   "cell_type": "markdown",
   "metadata": {},
   "source": [
    "Here are some considerations for when to create an RDD first and when to create a DataFrame directly:\n",
    "\n",
    "**Creating an RDD first (as in the provided code):**\n",
    "1. **Custom Transformation:** If you have custom transformation logic that you want to apply to the data in the RDD before creating a DataFrame, you might choose to work with RDDs first. This allows you to use RDD transformations like `map`, `filter`, and `reduce` to process the data.\n",
    "\n",
    "2. **Non-Structured Data:** If your data is unstructured or doesn't have a well-defined schema, working with RDDs can be more flexible because RDDs are schema-less compared to DataFrames.\n",
    "\n",
    "3. **Fine-Grained Control:** RDDs provide fine-grained control over data partitioning and processing, which can be beneficial in specific use cases where you need to optimize performance at a low level.\n",
    "\n",
    "**Creating a DataFrame directly:**\n",
    "1. **Structured Data:** If your data is structured, such as CSV, JSON, or Parquet files, you can create a DataFrame directly from those sources using built-in Spark methods. For example, you can use `spark.read.csv(\"file.csv\")` to create a DataFrame from a CSV file.\n",
    "\n",
    "2. **Schema Inference:** DataFrames can automatically infer the schema from the data source, which simplifies the process, especially when dealing with large and complex datasets.\n",
    "\n",
    "3. **Optimization:** DataFrames benefit from Spark's built-in optimizations, which can result in better performance for common operations like filtering, grouping, and aggregating."
   ]
  },
  {
   "cell_type": "markdown",
   "metadata": {},
   "source": [
    "##### Create Spark Session. This is our entry point for Dataframes or Datasets, not RDDs."
   ]
  },
  {
   "cell_type": "code",
   "execution_count": 122,
   "metadata": {},
   "outputs": [],
   "source": [
    "def rdd_to_dataframe(data, schema):\n",
    "  \"\"\" \n",
    "  Example: This fn creates a Spark RDD, loads it into a Spark DataFrame, and returns the DataFrame.\n",
    "  \"\"\"\n",
    "  # create a SparkSession\n",
    "  spark = SparkSession.builder.appName('RDDToDataFrame').getOrCreate()\n",
    "\n",
    "  try:\n",
    "    # creat an RDD from the input data, using Spark Context not Session!\n",
    "    # rdd = spark.sparkContext.parallelize(data)\n",
    "\n",
    "    # convert RDD to DataFrame\n",
    "    df = spark.createDataFrame(data, schema)\n",
    "\n",
    "    # return the DataFrame, without stopping the SparkSession\n",
    "    return df\n",
    "  \n",
    "  except Exception as e:\n",
    "    # Log error and Stop the SparkSession\n",
    "    logging.error('Error while transforming RDD to DF: {}'.format(e))\n",
    "    spark.stop()"
   ]
  },
  {
   "cell_type": "markdown",
   "metadata": {},
   "source": [
    "##### Create some random data"
   ]
  },
  {
   "cell_type": "code",
   "execution_count": 123,
   "metadata": {},
   "outputs": [],
   "source": [
    "dept_data = [(1, 'Big Data'), (2, 'Finance'), (3, 'Marketing')]\n",
    "dept_schema = ['department_id', 'department_name']"
   ]
  },
  {
   "cell_type": "code",
   "execution_count": 124,
   "metadata": {},
   "outputs": [],
   "source": [
    "emp_data = [(1, 'Carlos', 17), (1, 'Bob', 30), (2 ,'Jasmin', 26)]\n",
    "emp_schema = ['department_id', 'employee_name', 'age']"
   ]
  },
  {
   "cell_type": "markdown",
   "metadata": {},
   "source": [
    "#### Let's now use the Spark RDD as SparkSchema"
   ]
  },
  {
   "cell_type": "code",
   "execution_count": 125,
   "metadata": {},
   "outputs": [],
   "source": [
    "df_emp = rdd_to_dataframe(emp_data, emp_schema)\n",
    "df_dept = rdd_to_dataframe(dept_data, dept_schema)"
   ]
  },
  {
   "cell_type": "code",
   "execution_count": 126,
   "metadata": {},
   "outputs": [
    {
     "name": "stdout",
     "output_type": "stream",
     "text": [
      "+-------------+---------------+\n",
      "|department_id|department_name|\n",
      "+-------------+---------------+\n",
      "|            1|       Big Data|\n",
      "|            2|        Finance|\n",
      "|            3|      Marketing|\n",
      "+-------------+---------------+\n",
      "\n"
     ]
    }
   ],
   "source": [
    "# Show Schema\n",
    "df_dept.show()"
   ]
  },
  {
   "cell_type": "code",
   "execution_count": 127,
   "metadata": {},
   "outputs": [
    {
     "name": "stdout",
     "output_type": "stream",
     "text": [
      "DataFrame[department_id: bigint, department_name: string]\n"
     ]
    }
   ],
   "source": [
    "print(df_dept)"
   ]
  },
  {
   "cell_type": "markdown",
   "metadata": {},
   "source": [
    "### Use Spark SQL, to join 2 datasets"
   ]
  },
  {
   "cell_type": "code",
   "execution_count": 128,
   "metadata": {},
   "outputs": [],
   "source": [
    "# Do we have a session running\n",
    "spark = SparkSession.builder.appName('RDDToDataFrame').getOrCreate()"
   ]
  },
  {
   "cell_type": "code",
   "execution_count": 129,
   "metadata": {},
   "outputs": [],
   "source": [
    "# Register as view\n",
    "df_emp.createOrReplaceTempView('employees')\n",
    "df_dept.createOrReplaceTempView('departments')"
   ]
  },
  {
   "cell_type": "code",
   "execution_count": 130,
   "metadata": {},
   "outputs": [
    {
     "name": "stdout",
     "output_type": "stream",
     "text": [
      "+-------------+-------------+---+\n",
      "|department_id|employee_name|age|\n",
      "+-------------+-------------+---+\n",
      "|            1|          Bob| 30|\n",
      "|            2|       Jasmin| 26|\n",
      "+-------------+-------------+---+\n",
      "\n"
     ]
    }
   ],
   "source": [
    "spark.sql('''select * from employees where age >= 18 ''').show()"
   ]
  },
  {
   "cell_type": "code",
   "execution_count": 131,
   "metadata": {},
   "outputs": [
    {
     "name": "stdout",
     "output_type": "stream",
     "text": [
      "+-------------+-------------+---+-------------+---------------+\n",
      "|department_id|employee_name|age|department_id|department_name|\n",
      "+-------------+-------------+---+-------------+---------------+\n",
      "|            1|          Bob| 30|            1|       Big Data|\n",
      "|            2|       Jasmin| 26|            2|        Finance|\n",
      "+-------------+-------------+---+-------------+---------------+\n",
      "\n"
     ]
    }
   ],
   "source": [
    "# Query sample, using Spark SQL\n",
    "spark.sql('''select emp.*, dept.*\n",
    "          from employees as emp\n",
    "          inner join departments as dept on (emp.department_id = dept.department_id)\n",
    "          where age >= 18\n",
    "          ''').show()"
   ]
  },
  {
   "cell_type": "code",
   "execution_count": 132,
   "metadata": {},
   "outputs": [],
   "source": [
    "# Let's now save the JOINED Result into a new Temporart View -- NO WHERE CLAUSE\n",
    "spark.sql('''\n",
    "          select emp.employee_name, emp.age, emp.department_id, dept.department_name\n",
    "          from employees as emp\n",
    "            inner join departments as dept on (emp.department_id = dept.department_id)\n",
    "             where age >= 18\n",
    "          ''').createOrReplaceTempView('dept_employees')"
   ]
  },
  {
   "cell_type": "code",
   "execution_count": 133,
   "metadata": {},
   "outputs": [
    {
     "name": "stdout",
     "output_type": "stream",
     "text": [
      "+-------------+---+-------------+---------------+\n",
      "|employee_name|age|department_id|department_name|\n",
      "+-------------+---+-------------+---------------+\n",
      "|          Bob| 30|            1|       Big Data|\n",
      "|       Jasmin| 26|            2|        Finance|\n",
      "+-------------+---+-------------+---------------+\n",
      "\n"
     ]
    }
   ],
   "source": [
    "# Show the JOINED RESULTSET into a new Temporary View -- NO WHER CLAUSE\n",
    "spark.sql('''\n",
    "        select * from dept_employees where department_id is not null\n",
    "          ''').show()"
   ]
  },
  {
   "cell_type": "markdown",
   "metadata": {},
   "source": [
    "#### Save the output for our Business Data Consumers"
   ]
  },
  {
   "cell_type": "code",
   "execution_count": 134,
   "metadata": {},
   "outputs": [],
   "source": [
    "# Define output location\n",
    "output_location = 'output/dept_employees/'\n",
    "\n",
    "# let's now save the JOINED RESULTSET to local storage. This could be Amazon S3 or other.\n",
    "spark.sql('''\n",
    "        select * from dept_employees where department_id is not null\n",
    "          ''').write.mode('append').parquet(output_location)\n",
    "          "
   ]
  },
  {
   "cell_type": "markdown",
   "metadata": {},
   "source": [
    "#### Join a 3rd dataset, but with different format"
   ]
  },
  {
   "cell_type": "code",
   "execution_count": 135,
   "metadata": {},
   "outputs": [],
   "source": [
    "df_budgets = spark.read.option('multiline', 'true').json('./data/json/department_budgets.json')"
   ]
  },
  {
   "cell_type": "code",
   "execution_count": 136,
   "metadata": {},
   "outputs": [
    {
     "name": "stdout",
     "output_type": "stream",
     "text": [
      "root\n",
      " |-- budget: long (nullable = true)\n",
      " |-- budget_authorizer: array (nullable = true)\n",
      " |    |-- element: struct (containsNull = true)\n",
      " |    |    |-- cto: struct (nullable = true)\n",
      " |    |    |    |-- last_name: string (nullable = true)\n",
      " |    |    |    |-- name: string (nullable = true)\n",
      " |    |    |    |-- office: string (nullable = true)\n",
      " |-- budget_period: string (nullable = true)\n",
      " |-- department_id: long (nullable = true)\n",
      " |-- offices: array (nullable = true)\n",
      " |    |-- element: struct (containsNull = true)\n",
      " |    |    |-- cost_center: struct (nullable = true)\n",
      " |    |    |    |-- budget_status: string (nullable = true)\n",
      " |    |    |    |-- office: string (nullable = true)\n",
      "\n"
     ]
    }
   ],
   "source": [
    "df_budgets.printSchema()"
   ]
  },
  {
   "cell_type": "code",
   "execution_count": 137,
   "metadata": {},
   "outputs": [
    {
     "name": "stdout",
     "output_type": "stream",
     "text": [
      "+-------------------------------------------------------------------------+\n",
      "|offices                                                                  |\n",
      "+-------------------------------------------------------------------------+\n",
      "|[{{denied, new york}}, {{approved, mumbai}}, {{approved, san francisco}}]|\n",
      "+-------------------------------------------------------------------------+\n",
      "\n"
     ]
    }
   ],
   "source": [
    "df_budgets.select('offices').where('department_id == 1').show(truncate=False)"
   ]
  },
  {
   "cell_type": "markdown",
   "metadata": {},
   "source": [
    "#### Quering without flattening JSON"
   ]
  },
  {
   "cell_type": "code",
   "execution_count": 138,
   "metadata": {},
   "outputs": [],
   "source": [
    "df_budgets.createOrReplaceTempView('budgets_json')"
   ]
  },
  {
   "cell_type": "code",
   "execution_count": 139,
   "metadata": {},
   "outputs": [
    {
     "name": "stdout",
     "output_type": "stream",
     "text": [
      "+-------------+-------------+------+-------------+--------+---------------+--------+---------------+-----------------+-----------------+\n",
      "|employee_name|department_id|budget|budget_period|office_1|budget_status_1|office_2|budget_status_2|         cto_name|    cto_last_name|\n",
      "+-------------+-------------+------+-------------+--------+---------------+--------+---------------+-----------------+-----------------+\n",
      "|          Bob|            1| 16000|         year|new york|         denied|  mumbai|       approved|no CTO registered|no CTO registered|\n",
      "|       Jasmin|            2| 23000|         year|    null|           null|    null|           null|              joe|              doe|\n",
      "+-------------+-------------+------+-------------+--------+---------------+--------+---------------+-----------------+-----------------+\n",
      "\n"
     ]
    }
   ],
   "source": [
    "# let's join the third dataset\n",
    "spark.sql('''\n",
    "      select emp.employee_name,\n",
    "          emp.department_id,\n",
    "          bud.budget,\n",
    "          bud.budget_period,\n",
    "          bud.offices[0].cost_center.office as office_1,\n",
    "          bud.offices[0].cost_center.budget_status as budget_status_1,\n",
    "          bud.offices[1].cost_center.office as office_2,\n",
    "          bud.offices[1].cost_center.budget_status as budget_status_2,\n",
    "          nvl(bud.budget_authorizer[0].cto.name, 'no CTO registered') as cto_name,\n",
    "          nvl(bud.budget_authorizer[0].cto.last_name, 'no CTO registered') as cto_last_name\n",
    "      from dept_employees as emp\n",
    "        inner join budgets_json as bud on (emp.department_id = bud.department_id)\n",
    "          ''').show()"
   ]
  },
  {
   "cell_type": "markdown",
   "metadata": {},
   "source": [
    "#### Flattening JSON into Columnar format is normally easier, clearer and more scalable\n",
    "\n",
    "- Suggestion: always test and benchmaark perfomance, to compare Json Paths access vs flattening"
   ]
  },
  {
   "cell_type": "markdown",
   "metadata": {},
   "source": [
    "####"
   ]
  },
  {
   "cell_type": "code",
   "execution_count": 140,
   "metadata": {},
   "outputs": [],
   "source": [
    "import logging\n",
    "from pyspark.sql.types import ArrayType, StructType\n",
    "from pyspark.sql.functions import explode_outer, col"
   ]
  },
  {
   "cell_type": "code",
   "execution_count": 144,
   "metadata": {},
   "outputs": [],
   "source": [
    "def flatten_dataframe(df):\n",
    "  \"\"\"\n",
    "  Spark function to flatten nested structs.\n",
    "  :return: Spark dataframe\n",
    "  \"\"\"\n",
    "  try:\n",
    "    # compute Complex fields (Lists and Structs) in Schema\n",
    "    complex_fields = dict([(field.name, field.dataType)\n",
    "                            for field in df.schema.fields\n",
    "                            if type(field.dataType) == ArrayType or type(field.dataType) == StructType])\n",
    "    while len(complex_fields) != 0:\n",
    "      col_name = list(complex_fields.keys())[0]\n",
    "\n",
    "      # if StructType then convert all sub element to columns\n",
    "      # i.e. flatten structs\n",
    "      if (type(complex_fields[col_name]) == StructType):\n",
    "        expanded = [col(col_name+'.'+k).alias(col_name+'_'+k) for k in [n.name for n in complex_fields[col_name]]]\n",
    "        df = df.select('*', *expanded).drop(col_name)\n",
    "\n",
    "      # if ArrayType then add the Array Elements as Rows using the explode function\n",
    "      # i.e. explode Arrays\n",
    "      elif (type(complex_fields[col_name]) == ArrayType):\n",
    "        df = df.withColumn(col_name, explode_outer(col_name))\n",
    "\n",
    "      # recompute remaining Complex Fields in Schema\n",
    "      complex_fields = dict([(field.name, field.dataType)\n",
    "                             for field in df.schema.fields\n",
    "                             if type(field.dataType) == ArrayType or type(field.dataType) == StructType])\n",
    "      \n",
    "    return df\n",
    "    \n",
    "  except Exception as e:\n",
    "    logging.error('Error while flattening JSON data: {}'.format(e))"
   ]
  },
  {
   "cell_type": "code",
   "execution_count": 145,
   "metadata": {},
   "outputs": [],
   "source": [
    "df_budgets_flat = flatten_dataframe(df_budgets)"
   ]
  },
  {
   "cell_type": "code",
   "execution_count": 146,
   "metadata": {},
   "outputs": [
    {
     "name": "stdout",
     "output_type": "stream",
     "text": [
      "+------+-------------+-------------+-------------------------------+--------------------------+----------------------------+---------------------------------+--------------------------+\n",
      "|budget|budget_period|department_id|budget_authorizer_cto_last_name|budget_authorizer_cto_name|budget_authorizer_cto_office|offices_cost_center_budget_status|offices_cost_center_office|\n",
      "+------+-------------+-------------+-------------------------------+--------------------------+----------------------------+---------------------------------+--------------------------+\n",
      "| 16000|         year|            1|                           null|                      null|                        null|                           denied|                  new york|\n",
      "| 16000|         year|            1|                           null|                      null|                        null|                         approved|                    mumbai|\n",
      "| 16000|         year|            1|                           null|                      null|                        null|                         approved|             san francisco|\n",
      "| 23000|         year|            2|                            doe|                       joe|                    new york|                             null|                      null|\n",
      "| 12000|         year|            3|                           null|                      null|                        null|                             null|                      null|\n",
      "+------+-------------+-------------+-------------------------------+--------------------------+----------------------------+---------------------------------+--------------------------+\n",
      "\n"
     ]
    }
   ],
   "source": [
    "df_budgets_flat.show()"
   ]
  },
  {
   "cell_type": "code",
   "execution_count": 153,
   "metadata": {},
   "outputs": [
    {
     "name": "stdout",
     "output_type": "stream",
     "text": [
      "root\n",
      " |-- budget: long (nullable = true)\n",
      " |-- budget_period: string (nullable = true)\n",
      " |-- department_id: long (nullable = true)\n",
      " |-- budget_authorizer_cto_last_name: string (nullable = true)\n",
      " |-- budget_authorizer_cto_name: string (nullable = true)\n",
      " |-- budget_authorizer_cto_office: string (nullable = true)\n",
      " |-- offices_cost_center_budget_status: string (nullable = true)\n",
      " |-- offices_cost_center_office: string (nullable = true)\n",
      "\n"
     ]
    }
   ],
   "source": [
    "# New flatten schema\n",
    "df_budgets_flat.printSchema()"
   ]
  },
  {
   "cell_type": "code",
   "execution_count": 154,
   "metadata": {},
   "outputs": [],
   "source": [
    "df_budgets_flat.createOrReplaceTempView('budgets_flat')"
   ]
  },
  {
   "cell_type": "code",
   "execution_count": 155,
   "metadata": {},
   "outputs": [
    {
     "name": "stdout",
     "output_type": "stream",
     "text": [
      "+-------------+---+-------------+---------------+\n",
      "|employee_name|age|department_id|department_name|\n",
      "+-------------+---+-------------+---------------+\n",
      "|          Bob| 30|            1|       Big Data|\n",
      "|       Jasmin| 26|            2|        Finance|\n",
      "+-------------+---+-------------+---------------+\n",
      "\n"
     ]
    }
   ],
   "source": [
    "spark.sql('''\n",
    "          select *\n",
    "          from dept_employees''').show()"
   ]
  },
  {
   "cell_type": "code",
   "execution_count": 158,
   "metadata": {},
   "outputs": [
    {
     "name": "stdout",
     "output_type": "stream",
     "text": [
      "+-------------+---------------+------+-------------+--------------------------+\n",
      "|employee_name|department_name|budget|budget_period|offices_cost_center_office|\n",
      "+-------------+---------------+------+-------------+--------------------------+\n",
      "|          Bob|       Big Data| 16000|         year|             san francisco|\n",
      "|          Bob|       Big Data| 16000|         year|                    mumbai|\n",
      "|          Bob|       Big Data| 16000|         year|                  new york|\n",
      "|       Jasmin|        Finance| 23000|         year|                      null|\n",
      "+-------------+---------------+------+-------------+--------------------------+\n",
      "\n"
     ]
    }
   ],
   "source": [
    "# Let's join the third dataset\n",
    "spark.sql('''\n",
    "          select emp.employee_name, emp.department_name, bud.budget, bud.budget_period, bud.offices_cost_center_office\n",
    "          from dept_employees as emp\n",
    "            inner join budgets_flat as bud on (emp.department_id = bud.department_id)\n",
    "          ''').show(n=50)"
   ]
  },
  {
   "cell_type": "code",
   "execution_count": null,
   "metadata": {},
   "outputs": [],
   "source": []
  }
 ],
 "metadata": {
  "kernelspec": {
   "display_name": "big-data-env",
   "language": "python",
   "name": "python3"
  },
  "language_info": {
   "codemirror_mode": {
    "name": "ipython",
    "version": 3
   },
   "file_extension": ".py",
   "mimetype": "text/x-python",
   "name": "python",
   "nbconvert_exporter": "python",
   "pygments_lexer": "ipython3",
   "version": "3.10.12"
  },
  "orig_nbformat": 4
 },
 "nbformat": 4,
 "nbformat_minor": 2
}
