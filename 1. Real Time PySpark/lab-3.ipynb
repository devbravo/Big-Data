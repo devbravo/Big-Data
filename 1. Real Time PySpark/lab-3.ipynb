{
 "cells": [
  {
   "cell_type": "code",
   "execution_count": 33,
   "metadata": {},
   "outputs": [],
   "source": [
    "import logging\n",
    "from pyspark.sql import SparkSession"
   ]
  },
  {
   "cell_type": "markdown",
   "metadata": {},
   "source": [
    "Here are some considerations for when to create an RDD first and when to create a DataFrame directly:\n",
    "\n",
    "**Creating an RDD first (as in the provided code):**\n",
    "1. **Custom Transformation:** If you have custom transformation logic that you want to apply to the data in the RDD before creating a DataFrame, you might choose to work with RDDs first. This allows you to use RDD transformations like `map`, `filter`, and `reduce` to process the data.\n",
    "\n",
    "2. **Non-Structured Data:** If your data is unstructured or doesn't have a well-defined schema, working with RDDs can be more flexible because RDDs are schema-less compared to DataFrames.\n",
    "\n",
    "3. **Fine-Grained Control:** RDDs provide fine-grained control over data partitioning and processing, which can be beneficial in specific use cases where you need to optimize performance at a low level.\n",
    "\n",
    "**Creating a DataFrame directly:**\n",
    "1. **Structured Data:** If your data is structured, such as CSV, JSON, or Parquet files, you can create a DataFrame directly from those sources using built-in Spark methods. For example, you can use `spark.read.csv(\"file.csv\")` to create a DataFrame from a CSV file.\n",
    "\n",
    "2. **Schema Inference:** DataFrames can automatically infer the schema from the data source, which simplifies the process, especially when dealing with large and complex datasets.\n",
    "\n",
    "3. **Optimization:** DataFrames benefit from Spark's built-in optimizations, which can result in better performance for common operations like filtering, grouping, and aggregating."
   ]
  },
  {
   "cell_type": "markdown",
   "metadata": {},
   "source": [
    "##### Create Spark Session. This is our entry point for Dataframes or Datasets, not RDDs."
   ]
  },
  {
   "cell_type": "code",
   "execution_count": 34,
   "metadata": {},
   "outputs": [],
   "source": [
    "def rdd_to_dataframe(data, schema):\n",
    "  \"\"\" \n",
    "  Example: This fn creates a Spark RDD, loads it into a Spark DataFrame, and returns the DataFrame.\n",
    "  \"\"\"\n",
    "  # create a SparkSession\n",
    "  spark = SparkSession.builder.appName('RDDToDataFrame').getOrCreate()\n",
    "\n",
    "  try:\n",
    "    # creat an RDD from the input data, using Spark Context not Session!\n",
    "    # rdd = spark.sparkContext.parallelize(data)\n",
    "\n",
    "    # convert RDD to DataFrame\n",
    "    df = spark.createDataFrame(data, schema)\n",
    "\n",
    "    # return the DataFrame, without stopping the SparkSession\n",
    "    return df\n",
    "  \n",
    "  except Exception as e:\n",
    "    # Log error and Stop the SparkSession\n",
    "    logging.error('Error while transforming RDD to DF: {}'.format(e))\n",
    "    spark.stop()"
   ]
  },
  {
   "cell_type": "markdown",
   "metadata": {},
   "source": [
    "##### Create some random data"
   ]
  },
  {
   "cell_type": "code",
   "execution_count": 35,
   "metadata": {},
   "outputs": [],
   "source": [
    "dept_data = [(1, 'Big Data'), (2, 'Finance'), (3, 'Marketing')]\n",
    "dept_schema = ['department_id', 'department_name']"
   ]
  },
  {
   "cell_type": "code",
   "execution_count": 36,
   "metadata": {},
   "outputs": [],
   "source": [
    "emp_data = [(1, 'Carlos', 17), (1, 'Bob', 30), (2 ,'Jasmin', 26)]\n",
    "emp_schema = ['department_id', 'employee_name', 'age']"
   ]
  },
  {
   "cell_type": "markdown",
   "metadata": {},
   "source": [
    "#### Let's now use the Spark RDD as SparkSchema"
   ]
  },
  {
   "cell_type": "code",
   "execution_count": 37,
   "metadata": {},
   "outputs": [],
   "source": [
    "df_emp = rdd_to_dataframe(emp_data, emp_schema)\n",
    "df_dept = rdd_to_dataframe(dept_data, dept_schema)"
   ]
  },
  {
   "cell_type": "code",
   "execution_count": 38,
   "metadata": {},
   "outputs": [
    {
     "name": "stdout",
     "output_type": "stream",
     "text": [
      "+-------------+---------------+\n",
      "|department_id|department_name|\n",
      "+-------------+---------------+\n",
      "|            1|       Big Data|\n",
      "|            2|        Finance|\n",
      "|            3|      Marketing|\n",
      "+-------------+---------------+\n",
      "\n"
     ]
    }
   ],
   "source": [
    "# Show Schema\n",
    "df_dept.show()"
   ]
  },
  {
   "cell_type": "code",
   "execution_count": 39,
   "metadata": {},
   "outputs": [
    {
     "name": "stdout",
     "output_type": "stream",
     "text": [
      "DataFrame[department_id: bigint, department_name: string]\n"
     ]
    }
   ],
   "source": [
    "print(df_dept)"
   ]
  },
  {
   "cell_type": "markdown",
   "metadata": {},
   "source": [
    "### Use Spark SQL, to join 2 datasets"
   ]
  },
  {
   "cell_type": "code",
   "execution_count": 40,
   "metadata": {},
   "outputs": [],
   "source": [
    "# Do we have a session running\n",
    "spark = SparkSession.builder.appName('RDDToDataFrame').getOrCreate()"
   ]
  },
  {
   "cell_type": "code",
   "execution_count": 41,
   "metadata": {},
   "outputs": [],
   "source": [
    "# Register as view\n",
    "df_emp.createOrReplaceTempView('employees')\n",
    "df_dept.createOrReplaceTempView('departments')"
   ]
  },
  {
   "cell_type": "code",
   "execution_count": 42,
   "metadata": {},
   "outputs": [
    {
     "name": "stdout",
     "output_type": "stream",
     "text": [
      "+-------------+-------------+---+\n",
      "|department_id|employee_name|age|\n",
      "+-------------+-------------+---+\n",
      "|            1|          Bob| 30|\n",
      "|            2|       Jasmin| 26|\n",
      "+-------------+-------------+---+\n",
      "\n"
     ]
    }
   ],
   "source": [
    "spark.sql('''select * from employees where age >= 18 ''').show()"
   ]
  },
  {
   "cell_type": "code",
   "execution_count": 61,
   "metadata": {},
   "outputs": [
    {
     "name": "stdout",
     "output_type": "stream",
     "text": [
      "+-------------+-------------+---+-------------+---------------+\n",
      "|department_id|employee_name|age|department_id|department_name|\n",
      "+-------------+-------------+---+-------------+---------------+\n",
      "|            1|          Bob| 30|            1|       Big Data|\n",
      "|            2|       Jasmin| 26|            2|        Finance|\n",
      "+-------------+-------------+---+-------------+---------------+\n",
      "\n"
     ]
    }
   ],
   "source": [
    "# Query sample, using Spark SQL\n",
    "spark.sql('''select emp.*, dept.*\n",
    "          from employees as emp\n",
    "          inner join departments as dept on (emp.department_id = dept.department_id)\n",
    "          where age >= 18\n",
    "          ''').show()"
   ]
  },
  {
   "cell_type": "code",
   "execution_count": 62,
   "metadata": {},
   "outputs": [],
   "source": [
    "# Let's now save the JOINED Result into a new Temporart View -- NO WHERE CLAUSE\n",
    "spark.sql('''\n",
    "          select emp.employee_name, emp.age, emp.department_id, dept.department_name\n",
    "          from employees as emp\n",
    "            inner join departments as dept on (emp.department_id = dept.department_id)\n",
    "             where age >= 18\n",
    "          ''').createOrReplaceTempView('dept_employees')"
   ]
  },
  {
   "cell_type": "code",
   "execution_count": 66,
   "metadata": {},
   "outputs": [
    {
     "name": "stdout",
     "output_type": "stream",
     "text": [
      "+-------------+---+-------------+---------------+\n",
      "|employee_name|age|department_id|department_name|\n",
      "+-------------+---+-------------+---------------+\n",
      "|          Bob| 30|            1|       Big Data|\n",
      "|       Jasmin| 26|            2|        Finance|\n",
      "+-------------+---+-------------+---------------+\n",
      "\n"
     ]
    }
   ],
   "source": [
    "# Show the JOINED RESULTSET into a new Temporary View -- NO WHER CLAUSE\n",
    "spark.sql('''\n",
    "        select * from dept_employees where department_id is not null\n",
    "          ''').show()"
   ]
  },
  {
   "cell_type": "markdown",
   "metadata": {},
   "source": [
    "#### Save the output for our Business Data Consumers"
   ]
  },
  {
   "cell_type": "code",
   "execution_count": 47,
   "metadata": {},
   "outputs": [],
   "source": [
    "# # Define output location\n",
    "# output_location = 'output/dept_employees/'\n",
    "\n",
    "# # let's now save the JOINED RESULTSET to local storage. This could be Amazon S3 or other.\n",
    "# spark.sql('''\n",
    "#         select * from dept_employees where department_id is not null\n",
    "#           ''').write.mode('append').csv(output_location)\n",
    "          "
   ]
  },
  {
   "cell_type": "code",
   "execution_count": null,
   "metadata": {},
   "outputs": [],
   "source": []
  }
 ],
 "metadata": {
  "kernelspec": {
   "display_name": "big-data-env",
   "language": "python",
   "name": "python3"
  },
  "language_info": {
   "codemirror_mode": {
    "name": "ipython",
    "version": 3
   },
   "file_extension": ".py",
   "mimetype": "text/x-python",
   "name": "python",
   "nbconvert_exporter": "python",
   "pygments_lexer": "ipython3",
   "version": "3.10.12"
  },
  "orig_nbformat": 4
 },
 "nbformat": 4,
 "nbformat_minor": 2
}
